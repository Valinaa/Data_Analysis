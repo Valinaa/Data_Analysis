{
 "cells": [
  {
   "cell_type": "code",
   "execution_count": 1,
   "metadata": {},
   "outputs": [
    {
     "data": {
      "text/plain": [
       "0    334399\n",
       "1     46710\n",
       "Name: Response, dtype: int64"
      ]
     },
     "execution_count": 1,
     "metadata": {},
     "output_type": "execute_result"
    }
   ],
   "source": [
    "import pandas as pd\n",
    "import plotly as py\n",
    "#? 调用类中的函数\n",
    "from exploratory_data_analysis import EDAnalysis\n",
    "#? 进行可视化\n",
    "pyplot = py.offline.plot\n",
    "#? 读入训练集数据\n",
    "train = pd.read_csv('./data/train.csv')\n",
    "# train.head()\n",
    "#? 读入测试集数据\n",
    "test = pd.read_csv('./data/test.csv')\n",
    "# test.head()\n",
    "# print(train.info())\n",
    "# print('-' * 50)\n",
    "# print(test.info())\n",
    "desc_table = train.drop(['id', 'Vehicle_Age'], axis=1).describe().T\n",
    "# desc_table\n",
    "#? 查看目标属性分布情况\n",
    "train['Response'].value_counts()"
   ]
  },
  {
   "cell_type": "code",
   "execution_count": 3,
   "metadata": {},
   "outputs": [
    {
     "data": {
      "application/vnd.plotly.v1+json": {
       "config": {
        "plotlyServerURL": "https://plot.ly"
       },
       "data": [
        {
         "marker": {
          "opacity": 0.8
         },
         "name": "0",
         "orientation": "v",
         "type": "bar",
         "x": [
          "(2092.465, 24131.4]",
          "(24131.4, 45632.8]",
          "(45632.8, 67134.2]",
          "(67134.2, 88635.6]",
          "(88635.6, 110137.0]",
          "(110137.0, 131638.4]",
          "(131638.4, 153139.8]",
          "(153139.8, 174641.2]",
          "(174641.2, 196142.6]",
          "(196142.6, 217644.0]",
          "(217644.0, 239145.4]",
          "(239145.4, 260646.8]",
          "(260646.8, 282148.2]",
          "(282148.2, 303649.6]",
          "(303649.6, 325151.0]",
          "(325151.0, 346652.4]",
          "(346652.4, 368153.8]",
          "(389655.2, 411156.6]",
          "(432658.0, 454159.4]",
          "(454159.4, 475660.8]",
          "(475660.8, 497162.2]",
          "(497162.2, 518663.6]",
          "(518663.6, 540165.0]"
         ],
         "y": [
          88.14,
          88.2,
          84.94,
          84.8,
          83.8,
          85.96,
          83.56,
          83.72,
          83.33,
          100,
          80,
          54.55,
          66.67,
          83.33,
          84.62,
          78.57,
          100,
          100,
          100,
          33.33,
          50,
          100,
          75
         ]
        },
        {
         "marker": {
          "opacity": 0.8
         },
         "name": "1",
         "orientation": "v",
         "type": "bar",
         "x": [
          "(2092.465, 24131.4]",
          "(24131.4, 45632.8]",
          "(45632.8, 67134.2]",
          "(67134.2, 88635.6]",
          "(88635.6, 110137.0]",
          "(110137.0, 131638.4]",
          "(131638.4, 153139.8]",
          "(153139.8, 174641.2]",
          "(174641.2, 196142.6]",
          "(196142.6, 217644.0]",
          "(217644.0, 239145.4]",
          "(239145.4, 260646.8]",
          "(260646.8, 282148.2]",
          "(282148.2, 303649.6]",
          "(303649.6, 325151.0]",
          "(325151.0, 346652.4]",
          "(346652.4, 368153.8]",
          "(389655.2, 411156.6]",
          "(432658.0, 454159.4]",
          "(454159.4, 475660.8]",
          "(475660.8, 497162.2]",
          "(497162.2, 518663.6]",
          "(518663.6, 540165.0]"
         ],
         "y": [
          11.86,
          11.8,
          15.06,
          15.2,
          16.2,
          14.04,
          16.44,
          16.28,
          16.67,
          0,
          20,
          45.45,
          33.33,
          16.67,
          15.38,
          21.43,
          0,
          0,
          0,
          66.67,
          50,
          0,
          25
         ]
        }
       ],
       "layout": {
        "bargap": 0,
        "barmode": "stack",
        "height": 600,
        "template": {
         "data": {
          "bar": [
           {
            "error_x": {
             "color": "#2a3f5f"
            },
            "error_y": {
             "color": "#2a3f5f"
            },
            "marker": {
             "line": {
              "color": "#E5ECF6",
              "width": 0.5
             },
             "pattern": {
              "fillmode": "overlay",
              "size": 10,
              "solidity": 0.2
             }
            },
            "type": "bar"
           }
          ],
          "barpolar": [
           {
            "marker": {
             "line": {
              "color": "#E5ECF6",
              "width": 0.5
             },
             "pattern": {
              "fillmode": "overlay",
              "size": 10,
              "solidity": 0.2
             }
            },
            "type": "barpolar"
           }
          ],
          "carpet": [
           {
            "aaxis": {
             "endlinecolor": "#2a3f5f",
             "gridcolor": "white",
             "linecolor": "white",
             "minorgridcolor": "white",
             "startlinecolor": "#2a3f5f"
            },
            "baxis": {
             "endlinecolor": "#2a3f5f",
             "gridcolor": "white",
             "linecolor": "white",
             "minorgridcolor": "white",
             "startlinecolor": "#2a3f5f"
            },
            "type": "carpet"
           }
          ],
          "choropleth": [
           {
            "colorbar": {
             "outlinewidth": 0,
             "ticks": ""
            },
            "type": "choropleth"
           }
          ],
          "contour": [
           {
            "colorbar": {
             "outlinewidth": 0,
             "ticks": ""
            },
            "colorscale": [
             [
              0,
              "#0d0887"
             ],
             [
              0.1111111111111111,
              "#46039f"
             ],
             [
              0.2222222222222222,
              "#7201a8"
             ],
             [
              0.3333333333333333,
              "#9c179e"
             ],
             [
              0.4444444444444444,
              "#bd3786"
             ],
             [
              0.5555555555555556,
              "#d8576b"
             ],
             [
              0.6666666666666666,
              "#ed7953"
             ],
             [
              0.7777777777777778,
              "#fb9f3a"
             ],
             [
              0.8888888888888888,
              "#fdca26"
             ],
             [
              1,
              "#f0f921"
             ]
            ],
            "type": "contour"
           }
          ],
          "contourcarpet": [
           {
            "colorbar": {
             "outlinewidth": 0,
             "ticks": ""
            },
            "type": "contourcarpet"
           }
          ],
          "heatmap": [
           {
            "colorbar": {
             "outlinewidth": 0,
             "ticks": ""
            },
            "colorscale": [
             [
              0,
              "#0d0887"
             ],
             [
              0.1111111111111111,
              "#46039f"
             ],
             [
              0.2222222222222222,
              "#7201a8"
             ],
             [
              0.3333333333333333,
              "#9c179e"
             ],
             [
              0.4444444444444444,
              "#bd3786"
             ],
             [
              0.5555555555555556,
              "#d8576b"
             ],
             [
              0.6666666666666666,
              "#ed7953"
             ],
             [
              0.7777777777777778,
              "#fb9f3a"
             ],
             [
              0.8888888888888888,
              "#fdca26"
             ],
             [
              1,
              "#f0f921"
             ]
            ],
            "type": "heatmap"
           }
          ],
          "heatmapgl": [
           {
            "colorbar": {
             "outlinewidth": 0,
             "ticks": ""
            },
            "colorscale": [
             [
              0,
              "#0d0887"
             ],
             [
              0.1111111111111111,
              "#46039f"
             ],
             [
              0.2222222222222222,
              "#7201a8"
             ],
             [
              0.3333333333333333,
              "#9c179e"
             ],
             [
              0.4444444444444444,
              "#bd3786"
             ],
             [
              0.5555555555555556,
              "#d8576b"
             ],
             [
              0.6666666666666666,
              "#ed7953"
             ],
             [
              0.7777777777777778,
              "#fb9f3a"
             ],
             [
              0.8888888888888888,
              "#fdca26"
             ],
             [
              1,
              "#f0f921"
             ]
            ],
            "type": "heatmapgl"
           }
          ],
          "histogram": [
           {
            "marker": {
             "pattern": {
              "fillmode": "overlay",
              "size": 10,
              "solidity": 0.2
             }
            },
            "type": "histogram"
           }
          ],
          "histogram2d": [
           {
            "colorbar": {
             "outlinewidth": 0,
             "ticks": ""
            },
            "colorscale": [
             [
              0,
              "#0d0887"
             ],
             [
              0.1111111111111111,
              "#46039f"
             ],
             [
              0.2222222222222222,
              "#7201a8"
             ],
             [
              0.3333333333333333,
              "#9c179e"
             ],
             [
              0.4444444444444444,
              "#bd3786"
             ],
             [
              0.5555555555555556,
              "#d8576b"
             ],
             [
              0.6666666666666666,
              "#ed7953"
             ],
             [
              0.7777777777777778,
              "#fb9f3a"
             ],
             [
              0.8888888888888888,
              "#fdca26"
             ],
             [
              1,
              "#f0f921"
             ]
            ],
            "type": "histogram2d"
           }
          ],
          "histogram2dcontour": [
           {
            "colorbar": {
             "outlinewidth": 0,
             "ticks": ""
            },
            "colorscale": [
             [
              0,
              "#0d0887"
             ],
             [
              0.1111111111111111,
              "#46039f"
             ],
             [
              0.2222222222222222,
              "#7201a8"
             ],
             [
              0.3333333333333333,
              "#9c179e"
             ],
             [
              0.4444444444444444,
              "#bd3786"
             ],
             [
              0.5555555555555556,
              "#d8576b"
             ],
             [
              0.6666666666666666,
              "#ed7953"
             ],
             [
              0.7777777777777778,
              "#fb9f3a"
             ],
             [
              0.8888888888888888,
              "#fdca26"
             ],
             [
              1,
              "#f0f921"
             ]
            ],
            "type": "histogram2dcontour"
           }
          ],
          "mesh3d": [
           {
            "colorbar": {
             "outlinewidth": 0,
             "ticks": ""
            },
            "type": "mesh3d"
           }
          ],
          "parcoords": [
           {
            "line": {
             "colorbar": {
              "outlinewidth": 0,
              "ticks": ""
             }
            },
            "type": "parcoords"
           }
          ],
          "pie": [
           {
            "automargin": true,
            "type": "pie"
           }
          ],
          "scatter": [
           {
            "fillpattern": {
             "fillmode": "overlay",
             "size": 10,
             "solidity": 0.2
            },
            "type": "scatter"
           }
          ],
          "scatter3d": [
           {
            "line": {
             "colorbar": {
              "outlinewidth": 0,
              "ticks": ""
             }
            },
            "marker": {
             "colorbar": {
              "outlinewidth": 0,
              "ticks": ""
             }
            },
            "type": "scatter3d"
           }
          ],
          "scattercarpet": [
           {
            "marker": {
             "colorbar": {
              "outlinewidth": 0,
              "ticks": ""
             }
            },
            "type": "scattercarpet"
           }
          ],
          "scattergeo": [
           {
            "marker": {
             "colorbar": {
              "outlinewidth": 0,
              "ticks": ""
             }
            },
            "type": "scattergeo"
           }
          ],
          "scattergl": [
           {
            "marker": {
             "colorbar": {
              "outlinewidth": 0,
              "ticks": ""
             }
            },
            "type": "scattergl"
           }
          ],
          "scattermapbox": [
           {
            "marker": {
             "colorbar": {
              "outlinewidth": 0,
              "ticks": ""
             }
            },
            "type": "scattermapbox"
           }
          ],
          "scatterpolar": [
           {
            "marker": {
             "colorbar": {
              "outlinewidth": 0,
              "ticks": ""
             }
            },
            "type": "scatterpolar"
           }
          ],
          "scatterpolargl": [
           {
            "marker": {
             "colorbar": {
              "outlinewidth": 0,
              "ticks": ""
             }
            },
            "type": "scatterpolargl"
           }
          ],
          "scatterternary": [
           {
            "marker": {
             "colorbar": {
              "outlinewidth": 0,
              "ticks": ""
             }
            },
            "type": "scatterternary"
           }
          ],
          "surface": [
           {
            "colorbar": {
             "outlinewidth": 0,
             "ticks": ""
            },
            "colorscale": [
             [
              0,
              "#0d0887"
             ],
             [
              0.1111111111111111,
              "#46039f"
             ],
             [
              0.2222222222222222,
              "#7201a8"
             ],
             [
              0.3333333333333333,
              "#9c179e"
             ],
             [
              0.4444444444444444,
              "#bd3786"
             ],
             [
              0.5555555555555556,
              "#d8576b"
             ],
             [
              0.6666666666666666,
              "#ed7953"
             ],
             [
              0.7777777777777778,
              "#fb9f3a"
             ],
             [
              0.8888888888888888,
              "#fdca26"
             ],
             [
              1,
              "#f0f921"
             ]
            ],
            "type": "surface"
           }
          ],
          "table": [
           {
            "cells": {
             "fill": {
              "color": "#EBF0F8"
             },
             "line": {
              "color": "white"
             }
            },
            "header": {
             "fill": {
              "color": "#C8D4E3"
             },
             "line": {
              "color": "white"
             }
            },
            "type": "table"
           }
          ]
         },
         "layout": {
          "annotationdefaults": {
           "arrowcolor": "#2a3f5f",
           "arrowhead": 0,
           "arrowwidth": 1
          },
          "autotypenumbers": "strict",
          "coloraxis": {
           "colorbar": {
            "outlinewidth": 0,
            "ticks": ""
           }
          },
          "colorscale": {
           "diverging": [
            [
             0,
             "#8e0152"
            ],
            [
             0.1,
             "#c51b7d"
            ],
            [
             0.2,
             "#de77ae"
            ],
            [
             0.3,
             "#f1b6da"
            ],
            [
             0.4,
             "#fde0ef"
            ],
            [
             0.5,
             "#f7f7f7"
            ],
            [
             0.6,
             "#e6f5d0"
            ],
            [
             0.7,
             "#b8e186"
            ],
            [
             0.8,
             "#7fbc41"
            ],
            [
             0.9,
             "#4d9221"
            ],
            [
             1,
             "#276419"
            ]
           ],
           "sequential": [
            [
             0,
             "#0d0887"
            ],
            [
             0.1111111111111111,
             "#46039f"
            ],
            [
             0.2222222222222222,
             "#7201a8"
            ],
            [
             0.3333333333333333,
             "#9c179e"
            ],
            [
             0.4444444444444444,
             "#bd3786"
            ],
            [
             0.5555555555555556,
             "#d8576b"
            ],
            [
             0.6666666666666666,
             "#ed7953"
            ],
            [
             0.7777777777777778,
             "#fb9f3a"
            ],
            [
             0.8888888888888888,
             "#fdca26"
            ],
            [
             1,
             "#f0f921"
            ]
           ],
           "sequentialminus": [
            [
             0,
             "#0d0887"
            ],
            [
             0.1111111111111111,
             "#46039f"
            ],
            [
             0.2222222222222222,
             "#7201a8"
            ],
            [
             0.3333333333333333,
             "#9c179e"
            ],
            [
             0.4444444444444444,
             "#bd3786"
            ],
            [
             0.5555555555555556,
             "#d8576b"
            ],
            [
             0.6666666666666666,
             "#ed7953"
            ],
            [
             0.7777777777777778,
             "#fb9f3a"
            ],
            [
             0.8888888888888888,
             "#fdca26"
            ],
            [
             1,
             "#f0f921"
            ]
           ]
          },
          "colorway": [
           "#636efa",
           "#EF553B",
           "#00cc96",
           "#ab63fa",
           "#FFA15A",
           "#19d3f3",
           "#FF6692",
           "#B6E880",
           "#FF97FF",
           "#FECB52"
          ],
          "font": {
           "color": "#2a3f5f"
          },
          "geo": {
           "bgcolor": "white",
           "lakecolor": "white",
           "landcolor": "#E5ECF6",
           "showlakes": true,
           "showland": true,
           "subunitcolor": "white"
          },
          "hoverlabel": {
           "align": "left"
          },
          "hovermode": "closest",
          "mapbox": {
           "style": "light"
          },
          "paper_bgcolor": "white",
          "plot_bgcolor": "#E5ECF6",
          "polar": {
           "angularaxis": {
            "gridcolor": "white",
            "linecolor": "white",
            "ticks": ""
           },
           "bgcolor": "#E5ECF6",
           "radialaxis": {
            "gridcolor": "white",
            "linecolor": "white",
            "ticks": ""
           }
          },
          "scene": {
           "xaxis": {
            "backgroundcolor": "#E5ECF6",
            "gridcolor": "white",
            "gridwidth": 2,
            "linecolor": "white",
            "showbackground": true,
            "ticks": "",
            "zerolinecolor": "white"
           },
           "yaxis": {
            "backgroundcolor": "#E5ECF6",
            "gridcolor": "white",
            "gridwidth": 2,
            "linecolor": "white",
            "showbackground": true,
            "ticks": "",
            "zerolinecolor": "white"
           },
           "zaxis": {
            "backgroundcolor": "#E5ECF6",
            "gridcolor": "white",
            "gridwidth": 2,
            "linecolor": "white",
            "showbackground": true,
            "ticks": "",
            "zerolinecolor": "white"
           }
          },
          "shapedefaults": {
           "line": {
            "color": "#2a3f5f"
           }
          },
          "ternary": {
           "aaxis": {
            "gridcolor": "white",
            "linecolor": "white",
            "ticks": ""
           },
           "baxis": {
            "gridcolor": "white",
            "linecolor": "white",
            "ticks": ""
           },
           "bgcolor": "#E5ECF6",
           "caxis": {
            "gridcolor": "white",
            "linecolor": "white",
            "ticks": ""
           }
          },
          "title": {
           "x": 0.05
          },
          "xaxis": {
           "automargin": true,
           "gridcolor": "white",
           "linecolor": "white",
           "ticks": "",
           "title": {
            "standoff": 15
           },
           "zerolinecolor": "white",
           "zerolinewidth": 2
          },
          "yaxis": {
           "automargin": true,
           "gridcolor": "white",
           "linecolor": "white",
           "ticks": "",
           "title": {
            "standoff": 15
           },
           "zerolinecolor": "white",
           "zerolinewidth": 2
          }
         }
        },
        "title": {
         "text": "Relationship Between Annual_Premium and Response"
        },
        "xaxis": {
         "title": {
          "text": "Annual_Premium"
         }
        },
        "yaxis": {
         "title": {
          "text": "百分比"
         }
        }
       }
      }
     },
     "metadata": {},
     "output_type": "display_data"
    }
   ],
   "source": [
    "\n",
    "# #* 查看性别属性与目标属性关系\n",
    "# pd.crosstab(train['Gender'], train['Response'])\n",
    "# #? 实例类\n",
    "eda = EDAnalysis(data=train, id_col='id', target='Response')\n",
    "# #? 柱形图\n",
    "# fig = eda.draw_bar_stack_cat(col_name='Gender')\n",
    "# #* 查看是否有驾照属性与目标属性关系\n",
    "# pd.crosstab(train['Driving_License'], train['Response'])\n",
    "# fig = eda.draw_bar_stack_cat(col_name='Driving_License')\n",
    "\n",
    "# #* 查看之前是否投保与目标属性关系\n",
    "# pd.crosstab(train['Previously_Insured'], train['Response'])\n",
    "# fig = eda.draw_bar_stack_cat(col_name='Previously_Insured')\n",
    "\n",
    "# #* 查看车龄与目标属性关系\n",
    "# pd.crosstab(train['Vehicle_Age'], train['Response'])\n",
    "# fig = eda.draw_bar_stack_cat(col_name='Vehicle_Age')\n",
    "\n",
    "# #* 查看车辆损坏情况与目标属性关系\n",
    "# pd.crosstab(train['Vehicle_Damage'], train['Response'])\n",
    "# fig = eda.draw_bar_stack_cat(col_name='Vehicle_Damage')\n",
    "\n",
    "# #* 查看客户年龄与目标属性关系\n",
    "# pd.crosstab(train['Age'], train['Response'])\n",
    "# fig = eda.draw_bar_stack_num(col_name='Age')\n",
    "\n",
    "#* 查看年度保费与目标属性关系\n",
    "fig = eda.draw_bar_stack_num(col_name='Annual_Premium')\n",
    "fig.show()"
   ]
  },
  {
   "cell_type": "code",
   "execution_count": null,
   "metadata": {},
   "outputs": [],
   "source": [
    "\n",
    "#! 删除字段\n",
    "train = train.drop(['Region_Code', 'Policy_Sales_Channel'], axis=1)\n",
    "#! 处理异常值\n",
    "f_max = train['Annual_Premium'].mean() + 3*train['Annual_Premium'].std()\n",
    "f_min = train['Annual_Premium'].mean() - 3*train['Annual_Premium'].std()\n",
    "train.loc[train['Annual_Premium'] > f_max, 'Annual_Premium'] = f_max\n",
    "train.loc[train['Annual_Premium'] < f_min, 'Annual_Premium'] = f_min\n",
    "#! 数据编码\n",
    "train['Gender'] = train['Gender'].map({'Male': 1, 'Female': 0})\n",
    "train['Vehicle_Damage'] = train['Vehicle_Damage'].map({'Yes': 1, 'No': 0})\n",
    "train['Vehicle_Age'] = train['Vehicle_Age'].map({'< 1 Year': 0, '1-2 Year': 1, '> 2 Years': 2})\n",
    "train.head()"
   ]
  },
  {
   "cell_type": "code",
   "execution_count": null,
   "metadata": {},
   "outputs": [],
   "source": [
    "\n",
    "#! 删除字段\n",
    "test = test.drop(['Region_Code', 'Policy_Sales_Channel'], axis=1)\n",
    "#! 处理异常值\n",
    "test.loc[test['Annual_Premium'] > f_max, 'Annual_Premium'] = f_max\n",
    "test.loc[test['Annual_Premium'] < f_min, 'Annual_Premium'] = f_min\n",
    "#! 数据编码\n",
    "test['Gender'] = test['Gender'].map({'Male': 1, 'Female': 0})\n",
    "test['Vehicle_Damage'] = test['Vehicle_Damage'].map({'Yes': 1, 'No': 0})\n",
    "test['Vehicle_Age'] = test['Vehicle_Age'].map({'< 1 Year': 0, '1-2 Year': 1, '> 2 Years': 2})\n",
    "test.head()"
   ]
  },
  {
   "cell_type": "code",
   "execution_count": null,
   "metadata": {},
   "outputs": [],
   "source": [
    "\n",
    "#@ 数据聚类建模分析\n",
    "from sklearn.neighbors import KNeighborsClassifier\n",
    "from sklearn.tree import DecisionTreeClassifier\n",
    "#? 预处理函数\n",
    "from sklearn.preprocessing import MinMaxScaler\n",
    "#? 模型评估\n",
    "from sklearn.model_selection import train_test_split, GridSearchCV\n",
    "from sklearn.metrics import accuracy_score, f1_score, roc_auc_score\n",
    "#? 处理样本不平衡，对0类样本进行降采样\n",
    "from imblearn.under_sampling import RandomUnderSampler"
   ]
  },
  {
   "cell_type": "code",
   "execution_count": null,
   "metadata": {},
   "outputs": [],
   "source": [
    "\n",
    "#! 划分特征和标签\n",
    "X = train.drop(['id', 'Response'], axis=1)\n",
    "y = train['Response']\n",
    "#! 划分训练集和验证集\n",
    "X_train, X_val, y_train, y_val = train_test_split(X, y, test_size=0.2, stratify=y, random_state=0)\n",
    "print(X_train.shape, X_val.shape, y_train.shape, y_val.shape)                                                # type: ignore\n",
    "under_model = RandomUnderSampler(sampling_strategy={0: 133759, 1: 37368}, random_state=0)                            # type: ignore\n",
    "X_train, y_train = under_model.fit_resample(X_train, y_train)                                                       # type: ignore\n",
    "\n",
    "mms = MinMaxScaler()\n",
    "\n",
    "X_train_scaled = pd.DataFrame(mms.fit_transform(X_train), columns=X.columns)\n",
    "#! 保存一份极值标准化的数据\n",
    "X_val_scaled = pd.DataFrame(mms.transform(X_val), columns=X_val.columns)                                        # type: ignore\n",
    "\n",
    "#! 测试集\n",
    "X_test = test.drop(['ID'],axis=1)\n",
    "X_test_scaled = pd.DataFrame(mms.transform(X_test), columns=X_test.columns)"
   ]
  },
  {
   "cell_type": "code",
   "execution_count": null,
   "metadata": {},
   "outputs": [],
   "source": [
    "\n",
    "#* 建立knn\n",
    "knn = KNeighborsClassifier(n_neighbors=3, n_jobs=-1)\n",
    "knn.fit(X_train_scaled, y_train)\n",
    "\n",
    "y_pred = knn.predict(X_val_scaled)\n",
    "\n",
    "print('Simple KNeighborsClassifier accuracy: %.3f' % (accuracy_score(y_val, y_pred)))\n",
    "print('Simple KNeighborsClassifier f1_score: %.3f' % (f1_score(y_val, y_pred)))\n",
    "print('Simple KNeighborsClassifier roc_auc_score: %.3f' % (roc_auc_score(y_val, y_pred)))\n",
    "\n",
    "#* 对测试集评估\n",
    "test_y = knn.predict(X_test_scaled)\n",
    "test_y[:5]\n"
   ]
  },
  {
   "cell_type": "code",
   "execution_count": null,
   "metadata": {},
   "outputs": [],
   "source": [
    "\n",
    "#* 决策树\n",
    "dtc = DecisionTreeClassifier(max_depth=10, random_state=0)\n",
    "dtc.fit(X_train, y_train)\n",
    "\n",
    "y_pred = dtc.predict(X_val)\n",
    "\n",
    "print('Simple DecisionTreeClassifier accuracy: %.3f' % (accuracy_score(y_val, y_pred)))\n",
    "print('Simple DecisionTreeClassifier f1_score: %.3f' % (f1_score(y_val, y_pred)))\n",
    "print('Simple DecisionTreeClassifier roc_auc_score: %.3f' % (roc_auc_score(y_val, y_pred)))\n"
   ]
  },
  {
   "cell_type": "code",
   "execution_count": null,
   "metadata": {},
   "outputs": [],
   "source": [
    "\n",
    "#* 以f1为优化标准优化决策树算法\n",
    "parameters = {\n",
    "    'splitter': ('best', 'random'),\n",
    "    'criterion':('gini', 'entropy'),\n",
    "    'max_depth':[*range(1, 30, 2)],\n",
    "}\n",
    "\n",
    "#* 建立模型\n",
    "clf = DecisionTreeClassifier(random_state=0)\n",
    "GS = GridSearchCV(clf, parameters, cv=5, scoring='f1')\n",
    "GS.fit(X_train, y_train)\n",
    "#* 最佳模型\n",
    "best_model = GS.best_estimator_\n",
    "\n",
    "best_model.fit(X_train, y_train)                                                                                     #type:ignore\n",
    "y_pred = best_model.predict(X_val)                                                                                  #type:ignore\n",
    "\n",
    "print('Randomized  DecisionTree accuracy: %.3f' % (accuracy_score(y_val, y_pred)))\n",
    "print('Randomized  DecisionTree f1_score: %.3f' % (f1_score(y_val, y_pred)))\n",
    "print('Randomized  DecisionTree roc_auc_score: %.3f' % (roc_auc_score(y_val, y_pred)))"
   ]
  },
  {
   "cell_type": "code",
   "execution_count": null,
   "metadata": {},
   "outputs": [],
   "source": [
    "\n",
    "#* 属性重要性\n",
    "imp = pd.DataFrame(zip(X_train.columns, best_model.feature_importances_), columns=['col_name', 'importance'])        # type: ignore\n",
    "imp = imp.sort_values('importance', ascending=False)\n",
    "imp['accumulative_importance'] = imp['importance'].cumsum()\n",
    "imp = round(imp, 3)\n",
    "imp"
   ]
  }
 ],
 "metadata": {
  "kernelspec": {
   "display_name": "Python 3.9.12 ('base')",
   "language": "python",
   "name": "python3"
  },
  "language_info": {
   "codemirror_mode": {
    "name": "ipython",
    "version": 3
   },
   "file_extension": ".py",
   "mimetype": "text/x-python",
   "name": "python",
   "nbconvert_exporter": "python",
   "pygments_lexer": "ipython3",
   "version": "3.9.12"
  },
  "orig_nbformat": 4,
  "vscode": {
   "interpreter": {
    "hash": "f8b40d688a12481f01eadf7380c47edd8a49484a47dba3db091451640e880c68"
   }
  }
 },
 "nbformat": 4,
 "nbformat_minor": 2
}
